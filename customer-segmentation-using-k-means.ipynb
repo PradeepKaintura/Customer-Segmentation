{
 "cells": [
  {
   "cell_type": "markdown",
   "id": "3726fc01",
   "metadata": {
    "papermill": {
     "duration": 0.026155,
     "end_time": "2021-09-28T14:52:11.136549",
     "exception": false,
     "start_time": "2021-09-28T14:52:11.110394",
     "status": "completed"
    },
    "tags": []
   },
   "source": [
    "# Customer Segmentation\n"
   ]
  },
  {
   "cell_type": "code",
   "execution_count": 1,
   "id": "5a030ba9",
   "metadata": {
    "execution": {
     "iopub.execute_input": "2021-09-28T14:52:11.191911Z",
     "iopub.status.busy": "2021-09-28T14:52:11.190128Z",
     "iopub.status.idle": "2021-09-28T14:52:12.231619Z",
     "shell.execute_reply": "2021-09-28T14:52:12.232150Z"
    },
    "papermill": {
     "duration": 1.071517,
     "end_time": "2021-09-28T14:52:12.232485",
     "exception": false,
     "start_time": "2021-09-28T14:52:11.160968",
     "status": "completed"
    },
    "tags": []
   },
   "outputs": [],
   "source": [
    "# Importing libraries\n",
    "import pandas as pd\n",
    "import numpy as np\n",
    "import matplotlib.pyplot as plt\n",
    "import seaborn as sns"
   ]
  },
  {
   "cell_type": "code",
   "execution_count": 2,
   "id": "d125b136",
   "metadata": {
    "execution": {
     "iopub.execute_input": "2021-09-28T14:52:12.285831Z",
     "iopub.status.busy": "2021-09-28T14:52:12.284896Z",
     "iopub.status.idle": "2021-09-28T14:52:12.308566Z",
     "shell.execute_reply": "2021-09-28T14:52:12.309083Z"
    },
    "papermill": {
     "duration": 0.052109,
     "end_time": "2021-09-28T14:52:12.309281",
     "exception": false,
     "start_time": "2021-09-28T14:52:12.257172",
     "status": "completed"
    },
    "tags": []
   },
   "outputs": [],
   "source": [
    "# Loading Dataset\n",
    "customers_data = pd.read_csv(\"../input/segmentation-data/segmentation data.csv\")"
   ]
  },
  {
   "cell_type": "code",
   "execution_count": 3,
   "id": "5673daf4",
   "metadata": {
    "execution": {
     "iopub.execute_input": "2021-09-28T14:52:12.365558Z",
     "iopub.status.busy": "2021-09-28T14:52:12.364901Z",
     "iopub.status.idle": "2021-09-28T14:52:12.387416Z",
     "shell.execute_reply": "2021-09-28T14:52:12.387938Z"
    },
    "papermill": {
     "duration": 0.053451,
     "end_time": "2021-09-28T14:52:12.388118",
     "exception": false,
     "start_time": "2021-09-28T14:52:12.334667",
     "status": "completed"
    },
    "tags": []
   },
   "outputs": [
    {
     "data": {
      "text/html": [
       "<div>\n",
       "<style scoped>\n",
       "    .dataframe tbody tr th:only-of-type {\n",
       "        vertical-align: middle;\n",
       "    }\n",
       "\n",
       "    .dataframe tbody tr th {\n",
       "        vertical-align: top;\n",
       "    }\n",
       "\n",
       "    .dataframe thead th {\n",
       "        text-align: right;\n",
       "    }\n",
       "</style>\n",
       "<table border=\"1\" class=\"dataframe\">\n",
       "  <thead>\n",
       "    <tr style=\"text-align: right;\">\n",
       "      <th></th>\n",
       "      <th>ID</th>\n",
       "      <th>Gender</th>\n",
       "      <th>Marital_Status</th>\n",
       "      <th>Age</th>\n",
       "      <th>Education</th>\n",
       "      <th>Income</th>\n",
       "      <th>Occupation</th>\n",
       "      <th>Settlement_Size</th>\n",
       "    </tr>\n",
       "  </thead>\n",
       "  <tbody>\n",
       "    <tr>\n",
       "      <th>0</th>\n",
       "      <td>100000001</td>\n",
       "      <td>Male</td>\n",
       "      <td>Single</td>\n",
       "      <td>67</td>\n",
       "      <td>Graduate</td>\n",
       "      <td>124670</td>\n",
       "      <td>Skilled</td>\n",
       "      <td>Big City</td>\n",
       "    </tr>\n",
       "    <tr>\n",
       "      <th>1</th>\n",
       "      <td>100000002</td>\n",
       "      <td>Female</td>\n",
       "      <td>Not-Single</td>\n",
       "      <td>22</td>\n",
       "      <td>High School</td>\n",
       "      <td>150773</td>\n",
       "      <td>Skilled</td>\n",
       "      <td>Big City</td>\n",
       "    </tr>\n",
       "    <tr>\n",
       "      <th>2</th>\n",
       "      <td>100000003</td>\n",
       "      <td>Male</td>\n",
       "      <td>Single</td>\n",
       "      <td>49</td>\n",
       "      <td>High School</td>\n",
       "      <td>89210</td>\n",
       "      <td>unemployed/unskilled</td>\n",
       "      <td>Small City</td>\n",
       "    </tr>\n",
       "    <tr>\n",
       "      <th>3</th>\n",
       "      <td>100000004</td>\n",
       "      <td>Male</td>\n",
       "      <td>Single</td>\n",
       "      <td>45</td>\n",
       "      <td>High School</td>\n",
       "      <td>171565</td>\n",
       "      <td>Skilled</td>\n",
       "      <td>mid-Sized City</td>\n",
       "    </tr>\n",
       "    <tr>\n",
       "      <th>4</th>\n",
       "      <td>100000005</td>\n",
       "      <td>Male</td>\n",
       "      <td>Single</td>\n",
       "      <td>53</td>\n",
       "      <td>High School</td>\n",
       "      <td>149031</td>\n",
       "      <td>Skilled</td>\n",
       "      <td>mid-Sized City</td>\n",
       "    </tr>\n",
       "  </tbody>\n",
       "</table>\n",
       "</div>"
      ],
      "text/plain": [
       "          ID  Gender Marital_Status  Age    Education  Income  \\\n",
       "0  100000001    Male         Single   67     Graduate  124670   \n",
       "1  100000002  Female     Not-Single   22  High School  150773   \n",
       "2  100000003    Male         Single   49  High School   89210   \n",
       "3  100000004    Male         Single   45  High School  171565   \n",
       "4  100000005    Male         Single   53  High School  149031   \n",
       "\n",
       "             Occupation Settlement_Size  \n",
       "0               Skilled        Big City  \n",
       "1               Skilled        Big City  \n",
       "2  unemployed/unskilled      Small City  \n",
       "3               Skilled  mid-Sized City  \n",
       "4               Skilled  mid-Sized City  "
      ]
     },
     "execution_count": 3,
     "metadata": {},
     "output_type": "execute_result"
    }
   ],
   "source": [
    "# Preview Dataset\n",
    "customers_data.head()"
   ]
  },
  {
   "cell_type": "code",
   "execution_count": 4,
   "id": "8fca17b8",
   "metadata": {
    "execution": {
     "iopub.execute_input": "2021-09-28T14:52:12.444854Z",
     "iopub.status.busy": "2021-09-28T14:52:12.443899Z",
     "iopub.status.idle": "2021-09-28T14:52:12.468609Z",
     "shell.execute_reply": "2021-09-28T14:52:12.469057Z"
    },
    "papermill": {
     "duration": 0.053482,
     "end_time": "2021-09-28T14:52:12.469235",
     "exception": false,
     "start_time": "2021-09-28T14:52:12.415753",
     "status": "completed"
    },
    "tags": []
   },
   "outputs": [
    {
     "name": "stdout",
     "output_type": "stream",
     "text": [
      "<class 'pandas.core.frame.DataFrame'>\n",
      "RangeIndex: 2000 entries, 0 to 1999\n",
      "Data columns (total 8 columns):\n",
      " #   Column           Non-Null Count  Dtype \n",
      "---  ------           --------------  ----- \n",
      " 0   ID               2000 non-null   int64 \n",
      " 1   Gender           2000 non-null   object\n",
      " 2   Marital_Status   2000 non-null   object\n",
      " 3   Age              2000 non-null   int64 \n",
      " 4   Education        2000 non-null   object\n",
      " 5   Income           2000 non-null   int64 \n",
      " 6   Occupation       2000 non-null   object\n",
      " 7   Settlement_Size  2000 non-null   object\n",
      "dtypes: int64(3), object(5)\n",
      "memory usage: 125.1+ KB\n"
     ]
    }
   ],
   "source": [
    "# Summary of the dataset\n",
    "customers_data.info()"
   ]
  },
  {
   "cell_type": "code",
   "execution_count": 5,
   "id": "f564df78",
   "metadata": {
    "execution": {
     "iopub.execute_input": "2021-09-28T14:52:12.530399Z",
     "iopub.status.busy": "2021-09-28T14:52:12.529375Z",
     "iopub.status.idle": "2021-09-28T14:52:12.534129Z",
     "shell.execute_reply": "2021-09-28T14:52:12.533647Z"
    },
    "papermill": {
     "duration": 0.039198,
     "end_time": "2021-09-28T14:52:12.534270",
     "exception": false,
     "start_time": "2021-09-28T14:52:12.495072",
     "status": "completed"
    },
    "tags": []
   },
   "outputs": [
    {
     "data": {
      "text/plain": [
       "ID                 0\n",
       "Gender             0\n",
       "Marital_Status     0\n",
       "Age                0\n",
       "Education          0\n",
       "Income             0\n",
       "Occupation         0\n",
       "Settlement_Size    0\n",
       "dtype: int64"
      ]
     },
     "execution_count": 5,
     "metadata": {},
     "output_type": "execute_result"
    }
   ],
   "source": [
    "# For any null values\n",
    "customers_data.isnull().sum()"
   ]
  },
  {
   "cell_type": "code",
   "execution_count": 6,
   "id": "fe03ef21",
   "metadata": {
    "execution": {
     "iopub.execute_input": "2021-09-28T14:52:12.590851Z",
     "iopub.status.busy": "2021-09-28T14:52:12.589924Z",
     "iopub.status.idle": "2021-09-28T14:52:12.596441Z",
     "shell.execute_reply": "2021-09-28T14:52:12.596913Z"
    },
    "papermill": {
     "duration": 0.037025,
     "end_time": "2021-09-28T14:52:12.597084",
     "exception": false,
     "start_time": "2021-09-28T14:52:12.560059",
     "status": "completed"
    },
    "tags": []
   },
   "outputs": [],
   "source": [
    "# droping the data column, which doesn't required\n",
    "customers_data.drop([\"ID\"],axis=1,inplace=True)"
   ]
  },
  {
   "cell_type": "code",
   "execution_count": 7,
   "id": "51e98579",
   "metadata": {
    "execution": {
     "iopub.execute_input": "2021-09-28T14:52:12.656049Z",
     "iopub.status.busy": "2021-09-28T14:52:12.655367Z",
     "iopub.status.idle": "2021-09-28T14:52:12.658801Z",
     "shell.execute_reply": "2021-09-28T14:52:12.658226Z"
    },
    "papermill": {
     "duration": 0.034891,
     "end_time": "2021-09-28T14:52:12.658951",
     "exception": false,
     "start_time": "2021-09-28T14:52:12.624060",
     "status": "completed"
    },
    "tags": []
   },
   "outputs": [],
   "source": [
    "# making copy of the dataset\n",
    "customers_data_copy= customers_data.copy()"
   ]
  },
  {
   "cell_type": "code",
   "execution_count": 8,
   "id": "6876bcd1",
   "metadata": {
    "execution": {
     "iopub.execute_input": "2021-09-28T14:52:12.722473Z",
     "iopub.status.busy": "2021-09-28T14:52:12.721788Z",
     "iopub.status.idle": "2021-09-28T14:52:12.739777Z",
     "shell.execute_reply": "2021-09-28T14:52:12.739136Z"
    },
    "papermill": {
     "duration": 0.053214,
     "end_time": "2021-09-28T14:52:12.739923",
     "exception": false,
     "start_time": "2021-09-28T14:52:12.686709",
     "status": "completed"
    },
    "tags": []
   },
   "outputs": [],
   "source": [
    "# converting string data to numerical, as clustering algorithm used distance based measurement\n",
    "\n",
    "customers_data[\"Gender\"]=customers_data[\"Gender\"].replace(('Male','Female'),(0,1))\n",
    "customers_data[\"Marital_Status\"]=customers_data[\"Marital_Status\"].replace(('Single','Not-Single'),(0,1))\n",
    "customers_data[\"Education\"]=customers_data[\"Education\"].replace(('Unknown/Other','High School','Graduate','Post-Graduate'),(0,1,2,3))\n",
    "customers_data[\"Occupation\"]=customers_data[\"Occupation\"].replace(('unemployed/unskilled','Skilled','Management/officer/self-employed'),(0,1,2))\n",
    "customers_data[\"Settlement_Size\"]=customers_data[\"Settlement_Size\"].replace(('Small City','mid-Sized City','Big City'),(0,1,2))"
   ]
  },
  {
   "cell_type": "code",
   "execution_count": 9,
   "id": "1f64e7f2",
   "metadata": {
    "execution": {
     "iopub.execute_input": "2021-09-28T14:52:12.801737Z",
     "iopub.status.busy": "2021-09-28T14:52:12.796659Z",
     "iopub.status.idle": "2021-09-28T14:52:13.147208Z",
     "shell.execute_reply": "2021-09-28T14:52:13.146176Z"
    },
    "papermill": {
     "duration": 0.38054,
     "end_time": "2021-09-28T14:52:13.147409",
     "exception": false,
     "start_time": "2021-09-28T14:52:12.766869",
     "status": "completed"
    },
    "tags": []
   },
   "outputs": [
    {
     "data": {
      "image/png": "[encoded data removed]",
      "text/plain": [
       "<Figure size 432x288 with 1 Axes>"
      ]
     },
     "metadata": {
      "needs_background": "light"
     },
     "output_type": "display_data"
    }
   ],
   "source": [
    "plt.hist('Age', data=customers_data[customers_data['Gender'] == 0], alpha=0.5, label='Male');\n",
    "plt.hist('Age', data=customers_data[customers_data['Gender'] == 1], alpha=0.5, label='Female');\n",
    "plt.title('Distribution of Age by Gender');\n",
    "plt.xlabel('Age');\n",
    "plt.legend();\n",
    "\n",
    "# here, young males are greater than females"
   ]
  },
  {
   "cell_type": "code",
   "execution_count": 10,
   "id": "1c819b1e",
   "metadata": {
    "execution": {
     "iopub.execute_input": "2021-09-28T14:52:13.245594Z",
     "iopub.status.busy": "2021-09-28T14:52:13.234393Z",
     "iopub.status.idle": "2021-09-28T14:52:13.523875Z",
     "shell.execute_reply": "2021-09-28T14:52:13.523002Z"
    },
    "papermill": {
     "duration": 0.348512,
     "end_time": "2021-09-28T14:52:13.524033",
     "exception": false,
     "start_time": "2021-09-28T14:52:13.175521",
     "status": "completed"
    },
    "tags": []
   },
   "outputs": [
    {
     "data": {
      "text/plain": [
       "<matplotlib.legend.Legend at 0x7f796fe5a150>"
      ]
     },
     "execution_count": 10,
     "metadata": {},
     "output_type": "execute_result"
    },
    {
     "data": {
      "image/png": "[encoded data removed]",
      "text/plain": [
       "<Figure size 432x288 with 1 Axes>"
      ]
     },
     "metadata": {
      "needs_background": "light"
     },
     "output_type": "display_data"
    }
   ],
   "source": [
    "plt.hist('Income', data=customers_data[customers_data['Gender'] == 0], alpha=0.5, label='Male');\n",
    "plt.hist('Income', data=customers_data[customers_data['Gender'] == 1], alpha=0.5, label='Female');\n",
    "plt.title('Distribution of Income by Gender');\n",
    "plt.xlabel('Income');\n",
    "plt.ylabel('Count')\n",
    "plt.legend()\n",
    "\n",
    "# here, males have huge earnings than females"
   ]
  },
  {
   "cell_type": "code",
   "execution_count": 11,
   "id": "242ea8d1",
   "metadata": {
    "execution": {
     "iopub.execute_input": "2021-09-28T14:52:13.591843Z",
     "iopub.status.busy": "2021-09-28T14:52:13.590822Z",
     "iopub.status.idle": "2021-09-28T14:52:14.186522Z",
     "shell.execute_reply": "2021-09-28T14:52:14.187140Z"
    },
    "papermill": {
     "duration": 0.634714,
     "end_time": "2021-09-28T14:52:14.187315",
     "exception": false,
     "start_time": "2021-09-28T14:52:13.552601",
     "status": "completed"
    },
    "tags": []
   },
   "outputs": [
    {
     "data": {
      "text/plain": [
       "<AxesSubplot:>"
      ]
     },
     "execution_count": 11,
     "metadata": {},
     "output_type": "execute_result"
    },
    {
     "data": {
      "image/png": "[encoded data removed]",
      "text/plain": [
       "<Figure size 576x432 with 2 Axes>"
      ]
     },
     "metadata": {
      "needs_background": "light"
     },
     "output_type": "display_data"
    }
   ],
   "source": [
    "# heatmap is used to find out the correlation between features\n",
    "#more positive the correlation is better the features used to cluster the dataset\n",
    "plt.figure(figsize=(8,6))\n",
    "sns.heatmap(customers_data.corr(),annot=True)"
   ]
  },
  {
   "cell_type": "code",
   "execution_count": 12,
   "id": "3576e9ad",
   "metadata": {
    "execution": {
     "iopub.execute_input": "2021-09-28T14:52:14.254271Z",
     "iopub.status.busy": "2021-09-28T14:52:14.252436Z",
     "iopub.status.idle": "2021-09-28T14:52:14.407771Z",
     "shell.execute_reply": "2021-09-28T14:52:14.407134Z"
    },
    "papermill": {
     "duration": 0.189498,
     "end_time": "2021-09-28T14:52:14.407922",
     "exception": false,
     "start_time": "2021-09-28T14:52:14.218424",
     "status": "completed"
    },
    "tags": []
   },
   "outputs": [],
   "source": [
    "#importing modules for feature scaling\n",
    "from sklearn.preprocessing import StandardScaler"
   ]
  },
  {
   "cell_type": "code",
   "execution_count": 13,
   "id": "2f498b43",
   "metadata": {
    "execution": {
     "iopub.execute_input": "2021-09-28T14:52:14.478877Z",
     "iopub.status.busy": "2021-09-28T14:52:14.478172Z",
     "iopub.status.idle": "2021-09-28T14:52:14.486759Z",
     "shell.execute_reply": "2021-09-28T14:52:14.486201Z"
    },
    "papermill": {
     "duration": 0.046785,
     "end_time": "2021-09-28T14:52:14.486920",
     "exception": false,
     "start_time": "2021-09-28T14:52:14.440135",
     "status": "completed"
    },
    "tags": []
   },
   "outputs": [
    {
     "data": {
      "text/plain": [
       "array([[-0.91739884, -0.99302433,  2.65361447, ...,  0.09752361,\n",
       "         0.29682303,  1.552326  ],\n",
       "       [ 1.09003844,  1.00702467, -1.18713209, ...,  0.78265438,\n",
       "         0.29682303,  1.552326  ],\n",
       "       [-0.91739884, -0.99302433,  1.11731585, ..., -0.83320224,\n",
       "        -1.26952539, -0.90972951],\n",
       "       ...,\n",
       "       [-0.91739884, -0.99302433, -0.41898277, ..., -0.90695688,\n",
       "        -1.26952539, -0.90972951],\n",
       "       [ 1.09003844,  1.00702467, -1.01643224, ..., -0.60332923,\n",
       "        -1.26952539, -0.90972951],\n",
       "       [-0.91739884, -0.99302433, -0.93108232, ..., -1.3789866 ,\n",
       "        -1.26952539, -0.90972951]])"
      ]
     },
     "execution_count": 13,
     "metadata": {},
     "output_type": "execute_result"
    }
   ],
   "source": [
    "# Scaling Data\n",
    "scalar = StandardScaler()\n",
    "scaled_data = scalar.fit_transform(customers_data)\n",
    "# fit_transform compute the mean and std ,and then transform it\n",
    "scaled_data"
   ]
  },
  {
   "cell_type": "markdown",
   "id": "20a8860f",
   "metadata": {
    "papermill": {
     "duration": 0.031547,
     "end_time": "2021-09-28T14:52:14.551100",
     "exception": false,
     "start_time": "2021-09-28T14:52:14.519553",
     "status": "completed"
    },
    "tags": []
   },
   "source": [
    "# K-means\n",
    "    It is an iterative algortim to partition dataset into subgroups"
   ]
  },
  {
   "cell_type": "code",
   "execution_count": 14,
   "id": "3232f473",
   "metadata": {
    "execution": {
     "iopub.execute_input": "2021-09-28T14:52:14.620360Z",
     "iopub.status.busy": "2021-09-28T14:52:14.619697Z",
     "iopub.status.idle": "2021-09-28T14:52:15.035384Z",
     "shell.execute_reply": "2021-09-28T14:52:15.034790Z"
    },
    "papermill": {
     "duration": 0.451836,
     "end_time": "2021-09-28T14:52:15.035553",
     "exception": false,
     "start_time": "2021-09-28T14:52:14.583717",
     "status": "completed"
    },
    "tags": []
   },
   "outputs": [],
   "source": [
    "# importing modules for K means\n",
    "from sklearn.cluster import KMeans"
   ]
  },
  {
   "cell_type": "code",
   "execution_count": 15,
   "id": "29806d8a",
   "metadata": {
    "execution": {
     "iopub.execute_input": "2021-09-28T14:52:15.106950Z",
     "iopub.status.busy": "2021-09-28T14:52:15.106172Z",
     "iopub.status.idle": "2021-09-28T14:52:27.719801Z",
     "shell.execute_reply": "2021-09-28T14:52:27.720392Z"
    },
    "papermill": {
     "duration": 12.653477,
     "end_time": "2021-09-28T14:52:27.720622",
     "exception": false,
     "start_time": "2021-09-28T14:52:15.067145",
     "status": "completed"
    },
    "tags": []
   },
   "outputs": [
    {
     "data": {
      "text/plain": [
       "Text(0, 0.5, 'Sum_of_Squared_distance')"
      ]
     },
     "execution_count": 15,
     "metadata": {},
     "output_type": "execute_result"
    },
    {
     "data": {
      "image/png": "[encoded data removed]",
      "text/plain": [
       "<Figure size 432x288 with 1 Axes>"
      ]
     },
     "metadata": {
      "needs_background": "light"
     },
     "output_type": "display_data"
    }
   ],
   "source": [
    "# Applying Elbow method to Find optimum number of clusters\n",
    "Sum_of_Squared_distance = []\n",
    "for k in range (1,10):\n",
    "    kmeans = KMeans(n_clusters=k, init='k-means++', random_state=42)\n",
    "    kmeans = kmeans.fit(scaled_data)# compute k-means\n",
    "    Sum_of_Squared_distance.append(kmeans.inertia_)\n",
    "# inertia, calculates the sum of squared distances of samples to their closest cluster center\n",
    "\n",
    "plt.plot(range(1,10), Sum_of_Squared_distance , 'bx-')\n",
    "plt.xlabel('k')\n",
    "plt.ylabel('Sum_of_Squared_distance')"
   ]
  },
  {
   "cell_type": "markdown",
   "id": "248d6954",
   "metadata": {
    "papermill": {
     "duration": 0.041707,
     "end_time": "2021-09-28T14:52:27.805625",
     "exception": false,
     "start_time": "2021-09-28T14:52:27.763918",
     "status": "completed"
    },
    "tags": []
   },
   "source": [
    "## Clustering on the basis of AGE and INCOME"
   ]
  },
  {
   "cell_type": "code",
   "execution_count": 16,
   "id": "774bf3e0",
   "metadata": {
    "execution": {
     "iopub.execute_input": "2021-09-28T14:52:27.900073Z",
     "iopub.status.busy": "2021-09-28T14:52:27.899320Z",
     "iopub.status.idle": "2021-09-28T14:52:27.989208Z",
     "shell.execute_reply": "2021-09-28T14:52:27.990130Z"
    },
    "papermill": {
     "duration": 0.142616,
     "end_time": "2021-09-28T14:52:27.990381",
     "exception": false,
     "start_time": "2021-09-28T14:52:27.847765",
     "status": "completed"
    },
    "tags": []
   },
   "outputs": [
    {
     "data": {
      "text/plain": [
       "array([3, 1, 3, ..., 2, 2, 2], dtype=int32)"
      ]
     },
     "execution_count": 16,
     "metadata": {},
     "output_type": "execute_result"
    }
   ],
   "source": [
    "# Applying Kmeans to make data cluster\n",
    "# Taking number of CLusters = 4,\n",
    "kmeans = KMeans(n_clusters=4, init='k-means++', random_state=48 , max_iter=600)\n",
    "y_kmeans = kmeans.fit_predict(scaled_data[:,[2,4]])\n",
    "y_kmeans"
   ]
  },
  {
   "cell_type": "code",
   "execution_count": 17,
   "id": "46d175e4",
   "metadata": {
    "execution": {
     "iopub.execute_input": "2021-09-28T14:52:28.080660Z",
     "iopub.status.busy": "2021-09-28T14:52:28.079235Z",
     "iopub.status.idle": "2021-09-28T14:52:28.081914Z",
     "shell.execute_reply": "2021-09-28T14:52:28.081312Z"
    },
    "papermill": {
     "duration": 0.050846,
     "end_time": "2021-09-28T14:52:28.082073",
     "exception": false,
     "start_time": "2021-09-28T14:52:28.031227",
     "status": "completed"
    },
    "tags": []
   },
   "outputs": [],
   "source": [
    "# making new column clusters\n",
    "customers_data['Clusters']=y_kmeans"
   ]
  },
  {
   "cell_type": "markdown",
   "id": "1d699d16",
   "metadata": {
    "papermill": {
     "duration": 0.040295,
     "end_time": "2021-09-28T14:52:28.163134",
     "exception": false,
     "start_time": "2021-09-28T14:52:28.122839",
     "status": "completed"
    },
    "tags": []
   },
   "source": [
    "## Visualisation"
   ]
  },
  {
   "cell_type": "code",
   "execution_count": 18,
   "id": "8ad05d1e",
   "metadata": {
    "execution": {
     "iopub.execute_input": "2021-09-28T14:52:28.262584Z",
     "iopub.status.busy": "2021-09-28T14:52:28.261706Z",
     "iopub.status.idle": "2021-09-28T14:52:28.808908Z",
     "shell.execute_reply": "2021-09-28T14:52:28.808289Z"
    },
    "papermill": {
     "duration": 0.605544,
     "end_time": "2021-09-28T14:52:28.809065",
     "exception": false,
     "start_time": "2021-09-28T14:52:28.203521",
     "status": "completed"
    },
    "tags": []
   },
   "outputs": [
    {
     "name": "stderr",
     "output_type": "stream",
     "text": [
      "/opt/conda/lib/python3.7/site-packages/seaborn/_decorators.py:43: FutureWarning: Pass the following variables as keyword args: x, y. From version 0.12, the only valid positional argument will be `data`, and passing other arguments without an explicit keyword will result in an error or misinterpretation.\n",
      "  FutureWarning\n"
     ]
    },
    {
     "data": {
      "text/plain": [
       "Text(0.5, 1.0, 'Cluster of Customers')"
      ]
     },
     "execution_count": 18,
     "metadata": {},
     "output_type": "execute_result"
    },
    {
     "data": {
      "image/png": "[encoded data removed]",
      "text/plain": [
       "<Figure size 576x432 with 1 Axes>"
      ]
     },
     "metadata": {
      "needs_background": "light"
     },
     "output_type": "display_data"
    }
   ],
   "source": [
    "plt.figure(figsize=(8,6))\n",
    "sns.scatterplot(customers_data['Age'],customers_data['Income'],hue='Clusters', data=customers_data , palette=['g','r','b','c'])\n",
    "plt.title('Cluster of Customers')"
   ]
  },
  {
   "cell_type": "code",
   "execution_count": 19,
   "id": "a2db7328",
   "metadata": {
    "execution": {
     "iopub.execute_input": "2021-09-28T14:52:28.910558Z",
     "iopub.status.busy": "2021-09-28T14:52:28.909750Z",
     "iopub.status.idle": "2021-09-28T14:52:28.912991Z",
     "shell.execute_reply": "2021-09-28T14:52:28.911164Z"
    },
    "papermill": {
     "duration": 0.05958,
     "end_time": "2021-09-28T14:52:28.913149",
     "exception": false,
     "start_time": "2021-09-28T14:52:28.853569",
     "status": "completed"
    },
    "tags": []
   },
   "outputs": [
    {
     "data": {
      "text/plain": [
       "2    866\n",
       "1    622\n",
       "3    398\n",
       "0    114\n",
       "Name: Clusters, dtype: int64"
      ]
     },
     "execution_count": 19,
     "metadata": {},
     "output_type": "execute_result"
    }
   ],
   "source": [
    "customers_data['Clusters'].value_counts()"
   ]
  },
  {
   "cell_type": "markdown",
   "id": "30ba02f5",
   "metadata": {
    "papermill": {
     "duration": 0.044863,
     "end_time": "2021-09-28T14:52:29.004467",
     "exception": false,
     "start_time": "2021-09-28T14:52:28.959604",
     "status": "completed"
    },
    "tags": []
   },
   "source": [
    "## Observation of Clustering based on Age And Income\n",
    "    cluster 0- Very few Rich people\n",
    "    cluster 1- Most of the population is young with good income\n",
    "    cluster 2- 30% of population is young with high income\n",
    "    cluster 3- Grey people with good income "
   ]
  },
  {
   "cell_type": "markdown",
   "id": "ab095d31",
   "metadata": {
    "papermill": {
     "duration": 0.045334,
     "end_time": "2021-09-28T14:52:29.095463",
     "exception": false,
     "start_time": "2021-09-28T14:52:29.050129",
     "status": "completed"
    },
    "tags": []
   },
   "source": [
    "## Clustering with full dataset"
   ]
  },
  {
   "cell_type": "code",
   "execution_count": 20,
   "id": "66530111",
   "metadata": {
    "execution": {
     "iopub.execute_input": "2021-09-28T14:52:29.187456Z",
     "iopub.status.busy": "2021-09-28T14:52:29.186448Z",
     "iopub.status.idle": "2021-09-28T14:52:29.190988Z",
     "shell.execute_reply": "2021-09-28T14:52:29.190375Z"
    },
    "papermill": {
     "duration": 0.049873,
     "end_time": "2021-09-28T14:52:29.191141",
     "exception": false,
     "start_time": "2021-09-28T14:52:29.141268",
     "status": "completed"
    },
    "tags": []
   },
   "outputs": [],
   "source": [
    "cus=customers_data.copy()"
   ]
  },
  {
   "cell_type": "code",
   "execution_count": 21,
   "id": "2198ba3c",
   "metadata": {
    "execution": {
     "iopub.execute_input": "2021-09-28T14:52:29.275692Z",
     "iopub.status.busy": "2021-09-28T14:52:29.274994Z",
     "iopub.status.idle": "2021-09-28T14:52:30.663431Z",
     "shell.execute_reply": "2021-09-28T14:52:30.663921Z"
    },
    "papermill": {
     "duration": 1.434243,
     "end_time": "2021-09-28T14:52:30.664139",
     "exception": false,
     "start_time": "2021-09-28T14:52:29.229896",
     "status": "completed"
    },
    "tags": []
   },
   "outputs": [
    {
     "data": {
      "text/plain": [
       "array([0, 3, 1, ..., 1, 3, 1], dtype=int32)"
      ]
     },
     "execution_count": 21,
     "metadata": {},
     "output_type": "execute_result"
    }
   ],
   "source": [
    "# Applying Kmeans to make data cluster\n",
    "# Taking number of CLusters = 4,\n",
    "model_full = KMeans(n_clusters=4, init='k-means++', random_state=42)\n",
    "model_full_means =model_full.fit_predict(scaled_data)\n",
    "model_full_means"
   ]
  },
  {
   "cell_type": "code",
   "execution_count": 22,
   "id": "93c3f9af",
   "metadata": {
    "execution": {
     "iopub.execute_input": "2021-09-28T14:52:30.765079Z",
     "iopub.status.busy": "2021-09-28T14:52:30.763356Z",
     "iopub.status.idle": "2021-09-28T14:52:30.766253Z",
     "shell.execute_reply": "2021-09-28T14:52:30.765700Z"
    },
    "papermill": {
     "duration": 0.055627,
     "end_time": "2021-09-28T14:52:30.766413",
     "exception": false,
     "start_time": "2021-09-28T14:52:30.710786",
     "status": "completed"
    },
    "tags": []
   },
   "outputs": [],
   "source": [
    "cus['Clusters']=model_full_means"
   ]
  },
  {
   "cell_type": "code",
   "execution_count": 23,
   "id": "b2acbd1e",
   "metadata": {
    "execution": {
     "iopub.execute_input": "2021-09-28T14:52:30.866859Z",
     "iopub.status.busy": "2021-09-28T14:52:30.866140Z",
     "iopub.status.idle": "2021-09-28T14:52:31.519826Z",
     "shell.execute_reply": "2021-09-28T14:52:31.520722Z"
    },
    "papermill": {
     "duration": 0.708893,
     "end_time": "2021-09-28T14:52:31.520918",
     "exception": false,
     "start_time": "2021-09-28T14:52:30.812025",
     "status": "completed"
    },
    "tags": []
   },
   "outputs": [
    {
     "name": "stderr",
     "output_type": "stream",
     "text": [
      "/opt/conda/lib/python3.7/site-packages/seaborn/_decorators.py:43: FutureWarning: Pass the following variables as keyword args: x, y. From version 0.12, the only valid positional argument will be `data`, and passing other arguments without an explicit keyword will result in an error or misinterpretation.\n",
      "  FutureWarning\n"
     ]
    },
    {
     "data": {
      "text/plain": [
       "<AxesSubplot:xlabel='Age', ylabel='Income'>"
      ]
     },
     "execution_count": 23,
     "metadata": {},
     "output_type": "execute_result"
    },
    {
     "data": {
      "image/png": "[encoded data removed]",
      "text/plain": [
       "<Figure size 432x288 with 1 Axes>"
      ]
     },
     "metadata": {
      "needs_background": "light"
     },
     "output_type": "display_data"
    }
   ],
   "source": [
    "sns.scatterplot(cus['Age'],cus['Income'],hue='Clusters',data=cus,palette=['g','r','b','c'])"
   ]
  },
  {
   "cell_type": "code",
   "execution_count": 24,
   "id": "fbfc59ff",
   "metadata": {
    "execution": {
     "iopub.execute_input": "2021-09-28T14:52:31.632032Z",
     "iopub.status.busy": "2021-09-28T14:52:31.631199Z",
     "iopub.status.idle": "2021-09-28T14:52:31.634493Z",
     "shell.execute_reply": "2021-09-28T14:52:31.632666Z"
    },
    "papermill": {
     "duration": 0.063589,
     "end_time": "2021-09-28T14:52:31.634656",
     "exception": false,
     "start_time": "2021-09-28T14:52:31.571067",
     "status": "completed"
    },
    "tags": []
   },
   "outputs": [
    {
     "data": {
      "text/plain": [
       "3    705\n",
       "2    570\n",
       "1    462\n",
       "0    263\n",
       "Name: Clusters, dtype: int64"
      ]
     },
     "execution_count": 24,
     "metadata": {},
     "output_type": "execute_result"
    }
   ],
   "source": [
    "cus['Clusters'].value_counts()"
   ]
  },
  {
   "cell_type": "code",
   "execution_count": 25,
   "id": "719cce55",
   "metadata": {
    "execution": {
     "iopub.execute_input": "2021-09-28T14:52:31.746521Z",
     "iopub.status.busy": "2021-09-28T14:52:31.745836Z",
     "iopub.status.idle": "2021-09-28T14:52:31.772084Z",
     "shell.execute_reply": "2021-09-28T14:52:31.772975Z"
    },
    "papermill": {
     "duration": 0.087839,
     "end_time": "2021-09-28T14:52:31.773170",
     "exception": false,
     "start_time": "2021-09-28T14:52:31.685331",
     "status": "completed"
    },
    "tags": []
   },
   "outputs": [
    {
     "data": {
      "text/html": [
       "<div>\n",
       "<style scoped>\n",
       "    .dataframe tbody tr th:only-of-type {\n",
       "        vertical-align: middle;\n",
       "    }\n",
       "\n",
       "    .dataframe tbody tr th {\n",
       "        vertical-align: top;\n",
       "    }\n",
       "\n",
       "    .dataframe thead th {\n",
       "        text-align: right;\n",
       "    }\n",
       "</style>\n",
       "<table border=\"1\" class=\"dataframe\">\n",
       "  <thead>\n",
       "    <tr style=\"text-align: right;\">\n",
       "      <th></th>\n",
       "      <th>Gender</th>\n",
       "      <th>Marital_Status</th>\n",
       "      <th>Age</th>\n",
       "      <th>Education</th>\n",
       "      <th>Income</th>\n",
       "      <th>Occupation</th>\n",
       "      <th>Settlement_Size</th>\n",
       "    </tr>\n",
       "  </thead>\n",
       "  <tbody>\n",
       "    <tr>\n",
       "      <th>count</th>\n",
       "      <td>263</td>\n",
       "      <td>263</td>\n",
       "      <td>263.000000</td>\n",
       "      <td>263</td>\n",
       "      <td>263.000000</td>\n",
       "      <td>263</td>\n",
       "      <td>263</td>\n",
       "    </tr>\n",
       "    <tr>\n",
       "      <th>unique</th>\n",
       "      <td>2</td>\n",
       "      <td>2</td>\n",
       "      <td>NaN</td>\n",
       "      <td>3</td>\n",
       "      <td>NaN</td>\n",
       "      <td>3</td>\n",
       "      <td>3</td>\n",
       "    </tr>\n",
       "    <tr>\n",
       "      <th>top</th>\n",
       "      <td>Female</td>\n",
       "      <td>Not-Single</td>\n",
       "      <td>NaN</td>\n",
       "      <td>Graduate</td>\n",
       "      <td>NaN</td>\n",
       "      <td>Skilled</td>\n",
       "      <td>mid-Sized City</td>\n",
       "    </tr>\n",
       "    <tr>\n",
       "      <th>freq</th>\n",
       "      <td>132</td>\n",
       "      <td>182</td>\n",
       "      <td>NaN</td>\n",
       "      <td>225</td>\n",
       "      <td>NaN</td>\n",
       "      <td>147</td>\n",
       "      <td>104</td>\n",
       "    </tr>\n",
       "    <tr>\n",
       "      <th>mean</th>\n",
       "      <td>NaN</td>\n",
       "      <td>NaN</td>\n",
       "      <td>55.703422</td>\n",
       "      <td>NaN</td>\n",
       "      <td>158338.422053</td>\n",
       "      <td>NaN</td>\n",
       "      <td>NaN</td>\n",
       "    </tr>\n",
       "    <tr>\n",
       "      <th>std</th>\n",
       "      <td>NaN</td>\n",
       "      <td>NaN</td>\n",
       "      <td>10.502066</td>\n",
       "      <td>NaN</td>\n",
       "      <td>46204.670732</td>\n",
       "      <td>NaN</td>\n",
       "      <td>NaN</td>\n",
       "    </tr>\n",
       "    <tr>\n",
       "      <th>min</th>\n",
       "      <td>NaN</td>\n",
       "      <td>NaN</td>\n",
       "      <td>25.000000</td>\n",
       "      <td>NaN</td>\n",
       "      <td>69487.000000</td>\n",
       "      <td>NaN</td>\n",
       "      <td>NaN</td>\n",
       "    </tr>\n",
       "    <tr>\n",
       "      <th>50%</th>\n",
       "      <td>NaN</td>\n",
       "      <td>NaN</td>\n",
       "      <td>57.000000</td>\n",
       "      <td>NaN</td>\n",
       "      <td>146716.000000</td>\n",
       "      <td>NaN</td>\n",
       "      <td>NaN</td>\n",
       "    </tr>\n",
       "    <tr>\n",
       "      <th>max</th>\n",
       "      <td>NaN</td>\n",
       "      <td>NaN</td>\n",
       "      <td>76.000000</td>\n",
       "      <td>NaN</td>\n",
       "      <td>309364.000000</td>\n",
       "      <td>NaN</td>\n",
       "      <td>NaN</td>\n",
       "    </tr>\n",
       "  </tbody>\n",
       "</table>\n",
       "</div>"
      ],
      "text/plain": [
       "        Gender Marital_Status         Age Education         Income Occupation  \\\n",
       "count      263            263  263.000000       263     263.000000        263   \n",
       "unique       2              2         NaN         3            NaN          3   \n",
       "top     Female     Not-Single         NaN  Graduate            NaN    Skilled   \n",
       "freq       132            182         NaN       225            NaN        147   \n",
       "mean       NaN            NaN   55.703422       NaN  158338.422053        NaN   \n",
       "std        NaN            NaN   10.502066       NaN   46204.670732        NaN   \n",
       "min        NaN            NaN   25.000000       NaN   69487.000000        NaN   \n",
       "50%        NaN            NaN   57.000000       NaN  146716.000000        NaN   \n",
       "max        NaN            NaN   76.000000       NaN  309364.000000        NaN   \n",
       "\n",
       "       Settlement_Size  \n",
       "count              263  \n",
       "unique               3  \n",
       "top     mid-Sized City  \n",
       "freq               104  \n",
       "mean               NaN  \n",
       "std                NaN  \n",
       "min                NaN  \n",
       "50%                NaN  \n",
       "max                NaN  "
      ]
     },
     "execution_count": 25,
     "metadata": {},
     "output_type": "execute_result"
    }
   ],
   "source": [
    "customers_data_copy[cus['Clusters'] == 0].describe(percentiles=[],include='all')"
   ]
  },
  {
   "cell_type": "markdown",
   "id": "695d2e4f",
   "metadata": {
    "papermill": {
     "duration": 0.043693,
     "end_time": "2021-09-28T14:52:31.868167",
     "exception": false,
     "start_time": "2021-09-28T14:52:31.824474",
     "status": "completed"
    },
    "tags": []
   },
   "source": [
    "## Cluster 0-\n",
    "    These people are doing well\n",
    "    69% are married\n",
    "    most possess graduate level of education\n",
    "    most of them are Skilled and hold officier or management ranks\n",
    "    mostly settled in mid-Sized and big citites"
   ]
  },
  {
   "cell_type": "code",
   "execution_count": 26,
   "id": "81f29acf",
   "metadata": {
    "execution": {
     "iopub.execute_input": "2021-09-28T14:52:31.987108Z",
     "iopub.status.busy": "2021-09-28T14:52:31.986193Z",
     "iopub.status.idle": "2021-09-28T14:52:31.990627Z",
     "shell.execute_reply": "2021-09-28T14:52:31.991110Z"
    },
    "papermill": {
     "duration": 0.079794,
     "end_time": "2021-09-28T14:52:31.991401",
     "exception": false,
     "start_time": "2021-09-28T14:52:31.911607",
     "status": "completed"
    },
    "tags": []
   },
   "outputs": [
    {
     "data": {
      "text/html": [
       "<div>\n",
       "<style scoped>\n",
       "    .dataframe tbody tr th:only-of-type {\n",
       "        vertical-align: middle;\n",
       "    }\n",
       "\n",
       "    .dataframe tbody tr th {\n",
       "        vertical-align: top;\n",
       "    }\n",
       "\n",
       "    .dataframe thead th {\n",
       "        text-align: right;\n",
       "    }\n",
       "</style>\n",
       "<table border=\"1\" class=\"dataframe\">\n",
       "  <thead>\n",
       "    <tr style=\"text-align: right;\">\n",
       "      <th></th>\n",
       "      <th>Gender</th>\n",
       "      <th>Marital_Status</th>\n",
       "      <th>Age</th>\n",
       "      <th>Education</th>\n",
       "      <th>Income</th>\n",
       "      <th>Occupation</th>\n",
       "      <th>Settlement_Size</th>\n",
       "    </tr>\n",
       "  </thead>\n",
       "  <tbody>\n",
       "    <tr>\n",
       "      <th>count</th>\n",
       "      <td>462</td>\n",
       "      <td>462</td>\n",
       "      <td>462.000000</td>\n",
       "      <td>462</td>\n",
       "      <td>462.000000</td>\n",
       "      <td>462</td>\n",
       "      <td>462</td>\n",
       "    </tr>\n",
       "    <tr>\n",
       "      <th>unique</th>\n",
       "      <td>2</td>\n",
       "      <td>2</td>\n",
       "      <td>NaN</td>\n",
       "      <td>3</td>\n",
       "      <td>NaN</td>\n",
       "      <td>2</td>\n",
       "      <td>2</td>\n",
       "    </tr>\n",
       "    <tr>\n",
       "      <th>top</th>\n",
       "      <td>Male</td>\n",
       "      <td>Single</td>\n",
       "      <td>NaN</td>\n",
       "      <td>High School</td>\n",
       "      <td>NaN</td>\n",
       "      <td>unemployed/unskilled</td>\n",
       "      <td>Small City</td>\n",
       "    </tr>\n",
       "    <tr>\n",
       "      <th>freq</th>\n",
       "      <td>299</td>\n",
       "      <td>453</td>\n",
       "      <td>NaN</td>\n",
       "      <td>309</td>\n",
       "      <td>NaN</td>\n",
       "      <td>310</td>\n",
       "      <td>442</td>\n",
       "    </tr>\n",
       "    <tr>\n",
       "      <th>mean</th>\n",
       "      <td>NaN</td>\n",
       "      <td>NaN</td>\n",
       "      <td>35.577922</td>\n",
       "      <td>NaN</td>\n",
       "      <td>97859.852814</td>\n",
       "      <td>NaN</td>\n",
       "      <td>NaN</td>\n",
       "    </tr>\n",
       "    <tr>\n",
       "      <th>std</th>\n",
       "      <td>NaN</td>\n",
       "      <td>NaN</td>\n",
       "      <td>8.749180</td>\n",
       "      <td>NaN</td>\n",
       "      <td>22950.837099</td>\n",
       "      <td>NaN</td>\n",
       "      <td>NaN</td>\n",
       "    </tr>\n",
       "    <tr>\n",
       "      <th>min</th>\n",
       "      <td>NaN</td>\n",
       "      <td>NaN</td>\n",
       "      <td>19.000000</td>\n",
       "      <td>NaN</td>\n",
       "      <td>36760.000000</td>\n",
       "      <td>NaN</td>\n",
       "      <td>NaN</td>\n",
       "    </tr>\n",
       "    <tr>\n",
       "      <th>50%</th>\n",
       "      <td>NaN</td>\n",
       "      <td>NaN</td>\n",
       "      <td>35.000000</td>\n",
       "      <td>NaN</td>\n",
       "      <td>99102.000000</td>\n",
       "      <td>NaN</td>\n",
       "      <td>NaN</td>\n",
       "    </tr>\n",
       "    <tr>\n",
       "      <th>max</th>\n",
       "      <td>NaN</td>\n",
       "      <td>NaN</td>\n",
       "      <td>68.000000</td>\n",
       "      <td>NaN</td>\n",
       "      <td>171857.000000</td>\n",
       "      <td>NaN</td>\n",
       "      <td>NaN</td>\n",
       "    </tr>\n",
       "  </tbody>\n",
       "</table>\n",
       "</div>"
      ],
      "text/plain": [
       "       Gender Marital_Status         Age    Education         Income  \\\n",
       "count     462            462  462.000000          462     462.000000   \n",
       "unique      2              2         NaN            3            NaN   \n",
       "top      Male         Single         NaN  High School            NaN   \n",
       "freq      299            453         NaN          309            NaN   \n",
       "mean      NaN            NaN   35.577922          NaN   97859.852814   \n",
       "std       NaN            NaN    8.749180          NaN   22950.837099   \n",
       "min       NaN            NaN   19.000000          NaN   36760.000000   \n",
       "50%       NaN            NaN   35.000000          NaN   99102.000000   \n",
       "max       NaN            NaN   68.000000          NaN  171857.000000   \n",
       "\n",
       "                  Occupation Settlement_Size  \n",
       "count                    462             462  \n",
       "unique                     2               2  \n",
       "top     unemployed/unskilled      Small City  \n",
       "freq                     310             442  \n",
       "mean                     NaN             NaN  \n",
       "std                      NaN             NaN  \n",
       "min                      NaN             NaN  \n",
       "50%                      NaN             NaN  \n",
       "max                      NaN             NaN  "
      ]
     },
     "execution_count": 26,
     "metadata": {},
     "output_type": "execute_result"
    }
   ],
   "source": [
    "customers_data_copy[cus['Clusters'] == 1].describe(percentiles=[],include='all')"
   ]
  },
  {
   "cell_type": "markdown",
   "id": "d985545a",
   "metadata": {
    "papermill": {
     "duration": 0.044576,
     "end_time": "2021-09-28T14:52:32.080821",
     "exception": false,
     "start_time": "2021-09-28T14:52:32.036245",
     "status": "completed"
    },
    "tags": []
   },
   "source": [
    "## Cluster 1-\n",
    "    People with fewer opportunities\n",
    "    Almost everyone is single\n",
    "    They are people with lower edcuation\n",
    "    67% of them are unemployed/unskilled,\n",
    "    more than 95% setlled in small cities"
   ]
  },
  {
   "cell_type": "code",
   "execution_count": 27,
   "id": "a952d306",
   "metadata": {
    "execution": {
     "iopub.execute_input": "2021-09-28T14:52:32.183062Z",
     "iopub.status.busy": "2021-09-28T14:52:32.174646Z",
     "iopub.status.idle": "2021-09-28T14:52:32.204675Z",
     "shell.execute_reply": "2021-09-28T14:52:32.204001Z"
    },
    "papermill": {
     "duration": 0.079677,
     "end_time": "2021-09-28T14:52:32.204836",
     "exception": false,
     "start_time": "2021-09-28T14:52:32.125159",
     "status": "completed"
    },
    "tags": []
   },
   "outputs": [
    {
     "data": {
      "text/html": [
       "<div>\n",
       "<style scoped>\n",
       "    .dataframe tbody tr th:only-of-type {\n",
       "        vertical-align: middle;\n",
       "    }\n",
       "\n",
       "    .dataframe tbody tr th {\n",
       "        vertical-align: top;\n",
       "    }\n",
       "\n",
       "    .dataframe thead th {\n",
       "        text-align: right;\n",
       "    }\n",
       "</style>\n",
       "<table border=\"1\" class=\"dataframe\">\n",
       "  <thead>\n",
       "    <tr style=\"text-align: right;\">\n",
       "      <th></th>\n",
       "      <th>Gender</th>\n",
       "      <th>Marital_Status</th>\n",
       "      <th>Age</th>\n",
       "      <th>Education</th>\n",
       "      <th>Income</th>\n",
       "      <th>Occupation</th>\n",
       "      <th>Settlement_Size</th>\n",
       "    </tr>\n",
       "  </thead>\n",
       "  <tbody>\n",
       "    <tr>\n",
       "      <th>count</th>\n",
       "      <td>570</td>\n",
       "      <td>570</td>\n",
       "      <td>570.000000</td>\n",
       "      <td>570</td>\n",
       "      <td>570.000000</td>\n",
       "      <td>570</td>\n",
       "      <td>570</td>\n",
       "    </tr>\n",
       "    <tr>\n",
       "      <th>unique</th>\n",
       "      <td>2</td>\n",
       "      <td>2</td>\n",
       "      <td>NaN</td>\n",
       "      <td>2</td>\n",
       "      <td>NaN</td>\n",
       "      <td>3</td>\n",
       "      <td>3</td>\n",
       "    </tr>\n",
       "    <tr>\n",
       "      <th>top</th>\n",
       "      <td>Male</td>\n",
       "      <td>Single</td>\n",
       "      <td>NaN</td>\n",
       "      <td>High School</td>\n",
       "      <td>NaN</td>\n",
       "      <td>Skilled</td>\n",
       "      <td>Big City</td>\n",
       "    </tr>\n",
       "    <tr>\n",
       "      <th>freq</th>\n",
       "      <td>553</td>\n",
       "      <td>471</td>\n",
       "      <td>NaN</td>\n",
       "      <td>418</td>\n",
       "      <td>NaN</td>\n",
       "      <td>393</td>\n",
       "      <td>309</td>\n",
       "    </tr>\n",
       "    <tr>\n",
       "      <th>mean</th>\n",
       "      <td>NaN</td>\n",
       "      <td>NaN</td>\n",
       "      <td>35.635088</td>\n",
       "      <td>NaN</td>\n",
       "      <td>141218.249123</td>\n",
       "      <td>NaN</td>\n",
       "      <td>NaN</td>\n",
       "    </tr>\n",
       "    <tr>\n",
       "      <th>std</th>\n",
       "      <td>NaN</td>\n",
       "      <td>NaN</td>\n",
       "      <td>8.501018</td>\n",
       "      <td>NaN</td>\n",
       "      <td>33459.299686</td>\n",
       "      <td>NaN</td>\n",
       "      <td>NaN</td>\n",
       "    </tr>\n",
       "    <tr>\n",
       "      <th>min</th>\n",
       "      <td>NaN</td>\n",
       "      <td>NaN</td>\n",
       "      <td>20.000000</td>\n",
       "      <td>NaN</td>\n",
       "      <td>82398.000000</td>\n",
       "      <td>NaN</td>\n",
       "      <td>NaN</td>\n",
       "    </tr>\n",
       "    <tr>\n",
       "      <th>50%</th>\n",
       "      <td>NaN</td>\n",
       "      <td>NaN</td>\n",
       "      <td>35.000000</td>\n",
       "      <td>NaN</td>\n",
       "      <td>135629.000000</td>\n",
       "      <td>NaN</td>\n",
       "      <td>NaN</td>\n",
       "    </tr>\n",
       "    <tr>\n",
       "      <th>max</th>\n",
       "      <td>NaN</td>\n",
       "      <td>NaN</td>\n",
       "      <td>58.000000</td>\n",
       "      <td>NaN</td>\n",
       "      <td>268906.000000</td>\n",
       "      <td>NaN</td>\n",
       "      <td>NaN</td>\n",
       "    </tr>\n",
       "  </tbody>\n",
       "</table>\n",
       "</div>"
      ],
      "text/plain": [
       "       Gender Marital_Status         Age    Education         Income  \\\n",
       "count     570            570  570.000000          570     570.000000   \n",
       "unique      2              2         NaN            2            NaN   \n",
       "top      Male         Single         NaN  High School            NaN   \n",
       "freq      553            471         NaN          418            NaN   \n",
       "mean      NaN            NaN   35.635088          NaN  141218.249123   \n",
       "std       NaN            NaN    8.501018          NaN   33459.299686   \n",
       "min       NaN            NaN   20.000000          NaN   82398.000000   \n",
       "50%       NaN            NaN   35.000000          NaN  135629.000000   \n",
       "max       NaN            NaN   58.000000          NaN  268906.000000   \n",
       "\n",
       "       Occupation Settlement_Size  \n",
       "count         570             570  \n",
       "unique          3               3  \n",
       "top       Skilled        Big City  \n",
       "freq          393             309  \n",
       "mean          NaN             NaN  \n",
       "std           NaN             NaN  \n",
       "min           NaN             NaN  \n",
       "50%           NaN             NaN  \n",
       "max           NaN             NaN  "
      ]
     },
     "execution_count": 27,
     "metadata": {},
     "output_type": "execute_result"
    }
   ],
   "source": [
    "customers_data_copy[cus['Clusters'] == 2].describe(percentiles=[],include='all')"
   ]
  },
  {
   "cell_type": "markdown",
   "id": "2cafc996",
   "metadata": {
    "papermill": {
     "duration": 0.04645,
     "end_time": "2021-09-28T14:52:32.296279",
     "exception": false,
     "start_time": "2021-09-28T14:52:32.249829",
     "status": "completed"
    },
    "tags": []
   },
   "source": [
    "## Cluster 2-\n",
    "    These people have some Standard\n",
    "    Almost exeryone is married/divorced/widowed\n",
    "    Most have Highschool level Education\n",
    "    They are skilled and non skilled with fewer management level ranks\n",
    "    mostly settled in small and mid_sized cities"
   ]
  },
  {
   "cell_type": "code",
   "execution_count": 28,
   "id": "21e72a38",
   "metadata": {
    "execution": {
     "iopub.execute_input": "2021-09-28T14:52:32.417288Z",
     "iopub.status.busy": "2021-09-28T14:52:32.416607Z",
     "iopub.status.idle": "2021-09-28T14:52:32.423216Z",
     "shell.execute_reply": "2021-09-28T14:52:32.422582Z"
    },
    "papermill": {
     "duration": 0.081816,
     "end_time": "2021-09-28T14:52:32.423394",
     "exception": false,
     "start_time": "2021-09-28T14:52:32.341578",
     "status": "completed"
    },
    "tags": []
   },
   "outputs": [
    {
     "data": {
      "text/html": [
       "<div>\n",
       "<style scoped>\n",
       "    .dataframe tbody tr th:only-of-type {\n",
       "        vertical-align: middle;\n",
       "    }\n",
       "\n",
       "    .dataframe tbody tr th {\n",
       "        vertical-align: top;\n",
       "    }\n",
       "\n",
       "    .dataframe thead th {\n",
       "        text-align: right;\n",
       "    }\n",
       "</style>\n",
       "<table border=\"1\" class=\"dataframe\">\n",
       "  <thead>\n",
       "    <tr style=\"text-align: right;\">\n",
       "      <th></th>\n",
       "      <th>Gender</th>\n",
       "      <th>Marital_Status</th>\n",
       "      <th>Age</th>\n",
       "      <th>Education</th>\n",
       "      <th>Income</th>\n",
       "      <th>Occupation</th>\n",
       "      <th>Settlement_Size</th>\n",
       "    </tr>\n",
       "  </thead>\n",
       "  <tbody>\n",
       "    <tr>\n",
       "      <th>count</th>\n",
       "      <td>705</td>\n",
       "      <td>705</td>\n",
       "      <td>705.000000</td>\n",
       "      <td>705</td>\n",
       "      <td>705.000000</td>\n",
       "      <td>705</td>\n",
       "      <td>705</td>\n",
       "    </tr>\n",
       "    <tr>\n",
       "      <th>unique</th>\n",
       "      <td>2</td>\n",
       "      <td>2</td>\n",
       "      <td>NaN</td>\n",
       "      <td>2</td>\n",
       "      <td>NaN</td>\n",
       "      <td>3</td>\n",
       "      <td>3</td>\n",
       "    </tr>\n",
       "    <tr>\n",
       "      <th>top</th>\n",
       "      <td>Female</td>\n",
       "      <td>Not-Single</td>\n",
       "      <td>NaN</td>\n",
       "      <td>High School</td>\n",
       "      <td>NaN</td>\n",
       "      <td>Skilled</td>\n",
       "      <td>Small City</td>\n",
       "    </tr>\n",
       "    <tr>\n",
       "      <th>freq</th>\n",
       "      <td>602</td>\n",
       "      <td>703</td>\n",
       "      <td>NaN</td>\n",
       "      <td>657</td>\n",
       "      <td>NaN</td>\n",
       "      <td>421</td>\n",
       "      <td>471</td>\n",
       "    </tr>\n",
       "    <tr>\n",
       "      <th>mean</th>\n",
       "      <td>NaN</td>\n",
       "      <td>NaN</td>\n",
       "      <td>28.963121</td>\n",
       "      <td>NaN</td>\n",
       "      <td>105759.119149</td>\n",
       "      <td>NaN</td>\n",
       "      <td>NaN</td>\n",
       "    </tr>\n",
       "    <tr>\n",
       "      <th>std</th>\n",
       "      <td>NaN</td>\n",
       "      <td>NaN</td>\n",
       "      <td>6.751582</td>\n",
       "      <td>NaN</td>\n",
       "      <td>25370.288131</td>\n",
       "      <td>NaN</td>\n",
       "      <td>NaN</td>\n",
       "    </tr>\n",
       "    <tr>\n",
       "      <th>min</th>\n",
       "      <td>NaN</td>\n",
       "      <td>NaN</td>\n",
       "      <td>18.000000</td>\n",
       "      <td>NaN</td>\n",
       "      <td>35832.000000</td>\n",
       "      <td>NaN</td>\n",
       "      <td>NaN</td>\n",
       "    </tr>\n",
       "    <tr>\n",
       "      <th>50%</th>\n",
       "      <td>NaN</td>\n",
       "      <td>NaN</td>\n",
       "      <td>27.000000</td>\n",
       "      <td>NaN</td>\n",
       "      <td>106577.000000</td>\n",
       "      <td>NaN</td>\n",
       "      <td>NaN</td>\n",
       "    </tr>\n",
       "    <tr>\n",
       "      <th>max</th>\n",
       "      <td>NaN</td>\n",
       "      <td>NaN</td>\n",
       "      <td>59.000000</td>\n",
       "      <td>NaN</td>\n",
       "      <td>207262.000000</td>\n",
       "      <td>NaN</td>\n",
       "      <td>NaN</td>\n",
       "    </tr>\n",
       "  </tbody>\n",
       "</table>\n",
       "</div>"
      ],
      "text/plain": [
       "        Gender Marital_Status         Age    Education         Income  \\\n",
       "count      705            705  705.000000          705     705.000000   \n",
       "unique       2              2         NaN            2            NaN   \n",
       "top     Female     Not-Single         NaN  High School            NaN   \n",
       "freq       602            703         NaN          657            NaN   \n",
       "mean       NaN            NaN   28.963121          NaN  105759.119149   \n",
       "std        NaN            NaN    6.751582          NaN   25370.288131   \n",
       "min        NaN            NaN   18.000000          NaN   35832.000000   \n",
       "50%        NaN            NaN   27.000000          NaN  106577.000000   \n",
       "max        NaN            NaN   59.000000          NaN  207262.000000   \n",
       "\n",
       "       Occupation Settlement_Size  \n",
       "count         705             705  \n",
       "unique          3               3  \n",
       "top       Skilled      Small City  \n",
       "freq          421             471  \n",
       "mean          NaN             NaN  \n",
       "std           NaN             NaN  \n",
       "min           NaN             NaN  \n",
       "50%           NaN             NaN  \n",
       "max           NaN             NaN  "
      ]
     },
     "execution_count": 28,
     "metadata": {},
     "output_type": "execute_result"
    }
   ],
   "source": [
    "customers_data_copy[cus['Clusters'] == 3].describe(percentiles=[],include='all')"
   ]
  },
  {
   "cell_type": "markdown",
   "id": "99013716",
   "metadata": {
    "papermill": {
     "duration": 0.045435,
     "end_time": "2021-09-28T14:52:32.514233",
     "exception": false,
     "start_time": "2021-09-28T14:52:32.468798",
     "status": "completed"
    },
    "tags": []
   },
   "source": [
    "## Cluster 3-\n",
    "    They are career focused \n",
    "    82% of them are single\n",
    "    They are young people with high school and other education levels\n",
    "    They are skilled worker, holds management and officier level ranks\n",
    "    Most of them are setlled in big and mid_sized citites"
   ]
  },
  {
   "cell_type": "markdown",
   "id": "bb402864",
   "metadata": {
    "papermill": {
     "duration": 0.047867,
     "end_time": "2021-09-28T14:52:32.607666",
     "exception": false,
     "start_time": "2021-09-28T14:52:32.559799",
     "status": "completed"
    },
    "tags": []
   },
   "source": [
    "# Graph representation of clustering"
   ]
  },
  {
   "cell_type": "code",
   "execution_count": 29,
   "id": "4ed56eec",
   "metadata": {
    "execution": {
     "iopub.execute_input": "2021-09-28T14:52:32.709530Z",
     "iopub.status.busy": "2021-09-28T14:52:32.708774Z",
     "iopub.status.idle": "2021-09-28T14:52:35.332600Z",
     "shell.execute_reply": "2021-09-28T14:52:35.333126Z"
    },
    "papermill": {
     "duration": 2.67828,
     "end_time": "2021-09-28T14:52:35.333329",
     "exception": false,
     "start_time": "2021-09-28T14:52:32.655049",
     "status": "completed"
    },
    "tags": []
   },
   "outputs": [
    {
     "data": {
      "text/html": [
       "        <script type=\"text/javascript\">\n",
       "        window.PlotlyConfig = {MathJaxConfig: 'local'};\n",
       "        if (window.MathJax) {MathJax.Hub.Config({SVG: {font: \"STIX-Web\"}});}\n",
       "        if (typeof require !== 'undefined') {\n",
       "        require.undef(\"plotly\");\n",
       "        requirejs.config({\n",
       "            paths: {\n",
       "                'plotly': ['https://cdn.plot.ly/plotly-2.4.2.min']\n",
       "            }\n",
       "        });\n",
       "        require(['plotly'], function(Plotly) {\n",
       "            window._Plotly = Plotly;\n",
       "        });\n",
       "        }\n",
       "        </script>\n",
       "        "
      ]
     },
     "metadata": {},
     "output_type": "display_data"
    },
    {
     "data": {
      "text/html": [
       "<div>                            <div id=\"4ef034c5-9d2b-46a9-b275-75ede0c6dac6\" class=\"plotly-graph-div\" style=\"height:500px; width:500px;\"></div>            <script type=\"text/javascript\">                require([\"plotly\"], function(Plotly) {                    window.PLOTLYENV=window.PLOTLYENV || {};                                    if (document.getElementById(\"4ef034c5-9d2b-46a9-b275-75ede0c6dac6\")) {                    Plotly.newPlot(                        \"4ef034c5-9d2b-46a9-b275-75ede0c6dac6\",                        [{\"hovertemplate\":\"Clusters=0<br>value=%{r}<br>variable=%{theta}<extra></extra>\",\"legendgroup\":\"0\",\"line\":{\"color\":\"#636efa\",\"dash\":\"solid\"},\"marker\":{\"symbol\":\"circle\"},\"mode\":\"lines\",\"name\":\"0\",\"r\":[0.0901362237295219,0.3910399988482862,1.6894524090597216,1.8199185736044454,0.9812255527582792,0.4993167373485639,0.4570389486286243,0.0901362237295219],\"showlegend\":true,\"subplot\":\"polar\",\"theta\":[\"Gender\",\"Marital_Status\",\"Age\",\"Education\",\"Income\",\"Occupation\",\"Settlement_Size\",\"Gender\"],\"type\":\"scatterpolar\"},{\"hovertemplate\":\"Clusters=1<br>value=%{r}<br>variable=%{theta}<extra></extra>\",\"legendgroup\":\"1\",\"line\":{\"color\":\"#EF553B\",\"dash\":\"solid\"},\"marker\":{\"symbol\":\"circle\"},\"mode\":\"lines\",\"name\":\"1\",\"r\":[-0.2091471559328993,-0.9540623358525344,-0.028257475340115017,-0.485710869523648,-0.6061677889188978,-0.7541899829983982,-0.8564382690458454,-0.2091471559328993],\"showlegend\":true,\"subplot\":\"polar\",\"theta\":[\"Gender\",\"Marital_Status\",\"Age\",\"Education\",\"Income\",\"Occupation\",\"Settlement_Size\",\"Gender\"],\"type\":\"scatterpolar\"},{\"hovertemplate\":\"Clusters=2<br>value=%{r}<br>variable=%{theta}<extra></extra>\",\"legendgroup\":\"2\",\"line\":{\"color\":\"#00cc96\",\"dash\":\"solid\"},\"marker\":{\"symbol\":\"circle\"},\"mode\":\"lines\",\"name\":\"2\",\"r\":[-0.8575279005875757,-0.645647397502387,-0.02337839221868376,-0.508091197350327,0.5318688821242276,0.7227598761610624,0.9648881964342922,-0.8575279005875757],\"showlegend\":true,\"subplot\":\"polar\",\"theta\":[\"Gender\",\"Marital_Status\",\"Age\",\"Education\",\"Income\",\"Occupation\",\"Settlement_Size\",\"Gender\"],\"type\":\"scatterpolar\"},{\"hovertemplate\":\"Clusters=3<br>value=%{r}<br>variable=%{theta}<extra></extra>\",\"legendgroup\":\"3\",\"line\":{\"color\":\"#ab63fa\",\"dash\":\"solid\"},\"marker\":{\"symbol\":\"circle\"},\"mode\":\"lines\",\"name\":\"3\",\"r\":[0.7967532801915647,1.0013507745292658,-0.592830278597055,0.050172793406585134,-0.3988341343343349,-0.27639384282158563,-0.3893801917130415,0.7967532801915647],\"showlegend\":true,\"subplot\":\"polar\",\"theta\":[\"Gender\",\"Marital_Status\",\"Age\",\"Education\",\"Income\",\"Occupation\",\"Settlement_Size\",\"Gender\"],\"type\":\"scatterpolar\"}],                        {\"height\":500,\"legend\":{\"title\":{\"text\":\"Clusters\"},\"tracegroupgap\":0},\"margin\":{\"t\":60},\"polar\":{\"angularaxis\":{\"direction\":\"clockwise\",\"rotation\":90},\"domain\":{\"x\":[0.0,1.0],\"y\":[0.0,1.0]}},\"template\":{\"data\":{\"bar\":[{\"error_x\":{\"color\":\"#2a3f5f\"},\"error_y\":{\"color\":\"#2a3f5f\"},\"marker\":{\"line\":{\"color\":\"#E5ECF6\",\"width\":0.5},\"pattern\":{\"fillmode\":\"overlay\",\"size\":10,\"solidity\":0.2}},\"type\":\"bar\"}],\"barpolar\":[{\"marker\":{\"line\":{\"color\":\"#E5ECF6\",\"width\":0.5},\"pattern\":{\"fillmode\":\"overlay\",\"size\":10,\"solidity\":0.2}},\"type\":\"barpolar\"}],\"carpet\":[{\"aaxis\":{\"endlinecolor\":\"#2a3f5f\",\"gridcolor\":\"white\",\"linecolor\":\"white\",\"minorgridcolor\":\"white\",\"startlinecolor\":\"#2a3f5f\"},\"baxis\":{\"endlinecolor\":\"#2a3f5f\",\"gridcolor\":\"white\",\"linecolor\":\"white\",\"minorgridcolor\":\"white\",\"startlinecolor\":\"#2a3f5f\"},\"type\":\"carpet\"}],\"choropleth\":[{\"colorbar\":{\"outlinewidth\":0,\"ticks\":\"\"},\"type\":\"choropleth\"}],\"contour\":[{\"colorbar\":{\"outlinewidth\":0,\"ticks\":\"\"},\"colorscale\":[[0.0,\"#0d0887\"],[0.1111111111111111,\"#46039f\"],[0.2222222222222222,\"#7201a8\"],[0.3333333333333333,\"#9c179e\"],[0.4444444444444444,\"#bd3786\"],[0.5555555555555556,\"#d8576b\"],[0.6666666666666666,\"#ed7953\"],[0.7777777777777778,\"#fb9f3a\"],[0.8888888888888888,\"#fdca26\"],[1.0,\"#f0f921\"]],\"type\":\"contour\"}],\"contourcarpet\":[{\"colorbar\":{\"outlinewidth\":0,\"ticks\":\"\"},\"type\":\"contourcarpet\"}],\"heatmap\":[{\"colorbar\":{\"outlinewidth\":0,\"ticks\":\"\"},\"colorscale\":[[0.0,\"#0d0887\"],[0.1111111111111111,\"#46039f\"],[0.2222222222222222,\"#7201a8\"],[0.3333333333333333,\"#9c179e\"],[0.4444444444444444,\"#bd3786\"],[0.5555555555555556,\"#d8576b\"],[0.6666666666666666,\"#ed7953\"],[0.7777777777777778,\"#fb9f3a\"],[0.8888888888888888,\"#fdca26\"],[1.0,\"#f0f921\"]],\"type\":\"heatmap\"}],\"heatmapgl\":[{\"colorbar\":{\"outlinewidth\":0,\"ticks\":\"\"},\"colorscale\":[[0.0,\"#0d0887\"],[0.1111111111111111,\"#46039f\"],[0.2222222222222222,\"#7201a8\"],[0.3333333333333333,\"#9c179e\"],[0.4444444444444444,\"#bd3786\"],[0.5555555555555556,\"#d8576b\"],[0.6666666666666666,\"#ed7953\"],[0.7777777777777778,\"#fb9f3a\"],[0.8888888888888888,\"#fdca26\"],[1.0,\"#f0f921\"]],\"type\":\"heatmapgl\"}],\"histogram\":[{\"marker\":{\"pattern\":{\"fillmode\":\"overlay\",\"size\":10,\"solidity\":0.2}},\"type\":\"histogram\"}],\"histogram2d\":[{\"colorbar\":{\"outlinewidth\":0,\"ticks\":\"\"},\"colorscale\":[[0.0,\"#0d0887\"],[0.1111111111111111,\"#46039f\"],[0.2222222222222222,\"#7201a8\"],[0.3333333333333333,\"#9c179e\"],[0.4444444444444444,\"#bd3786\"],[0.5555555555555556,\"#d8576b\"],[0.6666666666666666,\"#ed7953\"],[0.7777777777777778,\"#fb9f3a\"],[0.8888888888888888,\"#fdca26\"],[1.0,\"#f0f921\"]],\"type\":\"histogram2d\"}],\"histogram2dcontour\":[{\"colorbar\":{\"outlinewidth\":0,\"ticks\":\"\"},\"colorscale\":[[0.0,\"#0d0887\"],[0.1111111111111111,\"#46039f\"],[0.2222222222222222,\"#7201a8\"],[0.3333333333333333,\"#9c179e\"],[0.4444444444444444,\"#bd3786\"],[0.5555555555555556,\"#d8576b\"],[0.6666666666666666,\"#ed7953\"],[0.7777777777777778,\"#fb9f3a\"],[0.8888888888888888,\"#fdca26\"],[1.0,\"#f0f921\"]],\"type\":\"histogram2dcontour\"}],\"mesh3d\":[{\"colorbar\":{\"outlinewidth\":0,\"ticks\":\"\"},\"type\":\"mesh3d\"}],\"parcoords\":[{\"line\":{\"colorbar\":{\"outlinewidth\":0,\"ticks\":\"\"}},\"type\":\"parcoords\"}],\"pie\":[{\"automargin\":true,\"type\":\"pie\"}],\"scatter\":[{\"marker\":{\"colorbar\":{\"outlinewidth\":0,\"ticks\":\"\"}},\"type\":\"scatter\"}],\"scatter3d\":[{\"line\":{\"colorbar\":{\"outlinewidth\":0,\"ticks\":\"\"}},\"marker\":{\"colorbar\":{\"outlinewidth\":0,\"ticks\":\"\"}},\"type\":\"scatter3d\"}],\"scattercarpet\":[{\"marker\":{\"colorbar\":{\"outlinewidth\":0,\"ticks\":\"\"}},\"type\":\"scattercarpet\"}],\"scattergeo\":[{\"marker\":{\"colorbar\":{\"outlinewidth\":0,\"ticks\":\"\"}},\"type\":\"scattergeo\"}],\"scattergl\":[{\"marker\":{\"colorbar\":{\"outlinewidth\":0,\"ticks\":\"\"}},\"type\":\"scattergl\"}],\"scattermapbox\":[{\"marker\":{\"colorbar\":{\"outlinewidth\":0,\"ticks\":\"\"}},\"type\":\"scattermapbox\"}],\"scatterpolar\":[{\"marker\":{\"colorbar\":{\"outlinewidth\":0,\"ticks\":\"\"}},\"type\":\"scatterpolar\"}],\"scatterpolargl\":[{\"marker\":{\"colorbar\":{\"outlinewidth\":0,\"ticks\":\"\"}},\"type\":\"scatterpolargl\"}],\"scatterternary\":[{\"marker\":{\"colorbar\":{\"outlinewidth\":0,\"ticks\":\"\"}},\"type\":\"scatterternary\"}],\"surface\":[{\"colorbar\":{\"outlinewidth\":0,\"ticks\":\"\"},\"colorscale\":[[0.0,\"#0d0887\"],[0.1111111111111111,\"#46039f\"],[0.2222222222222222,\"#7201a8\"],[0.3333333333333333,\"#9c179e\"],[0.4444444444444444,\"#bd3786\"],[0.5555555555555556,\"#d8576b\"],[0.6666666666666666,\"#ed7953\"],[0.7777777777777778,\"#fb9f3a\"],[0.8888888888888888,\"#fdca26\"],[1.0,\"#f0f921\"]],\"type\":\"surface\"}],\"table\":[{\"cells\":{\"fill\":{\"color\":\"#EBF0F8\"},\"line\":{\"color\":\"white\"}},\"header\":{\"fill\":{\"color\":\"#C8D4E3\"},\"line\":{\"color\":\"white\"}},\"type\":\"table\"}]},\"layout\":{\"annotationdefaults\":{\"arrowcolor\":\"#2a3f5f\",\"arrowhead\":0,\"arrowwidth\":1},\"autotypenumbers\":\"strict\",\"coloraxis\":{\"colorbar\":{\"outlinewidth\":0,\"ticks\":\"\"}},\"colorscale\":{\"diverging\":[[0,\"#8e0152\"],[0.1,\"#c51b7d\"],[0.2,\"#de77ae\"],[0.3,\"#f1b6da\"],[0.4,\"#fde0ef\"],[0.5,\"#f7f7f7\"],[0.6,\"#e6f5d0\"],[0.7,\"#b8e186\"],[0.8,\"#7fbc41\"],[0.9,\"#4d9221\"],[1,\"#276419\"]],\"sequential\":[[0.0,\"#0d0887\"],[0.1111111111111111,\"#46039f\"],[0.2222222222222222,\"#7201a8\"],[0.3333333333333333,\"#9c179e\"],[0.4444444444444444,\"#bd3786\"],[0.5555555555555556,\"#d8576b\"],[0.6666666666666666,\"#ed7953\"],[0.7777777777777778,\"#fb9f3a\"],[0.8888888888888888,\"#fdca26\"],[1.0,\"#f0f921\"]],\"sequentialminus\":[[0.0,\"#0d0887\"],[0.1111111111111111,\"#46039f\"],[0.2222222222222222,\"#7201a8\"],[0.3333333333333333,\"#9c179e\"],[0.4444444444444444,\"#bd3786\"],[0.5555555555555556,\"#d8576b\"],[0.6666666666666666,\"#ed7953\"],[0.7777777777777778,\"#fb9f3a\"],[0.8888888888888888,\"#fdca26\"],[1.0,\"#f0f921\"]]},\"colorway\":[\"#636efa\",\"#EF553B\",\"#00cc96\",\"#ab63fa\",\"#FFA15A\",\"#19d3f3\",\"#FF6692\",\"#B6E880\",\"#FF97FF\",\"#FECB52\"],\"font\":{\"color\":\"#2a3f5f\"},\"geo\":{\"bgcolor\":\"white\",\"lakecolor\":\"white\",\"landcolor\":\"#E5ECF6\",\"showlakes\":true,\"showland\":true,\"subunitcolor\":\"white\"},\"hoverlabel\":{\"align\":\"left\"},\"hovermode\":\"closest\",\"mapbox\":{\"style\":\"light\"},\"paper_bgcolor\":\"white\",\"plot_bgcolor\":\"#E5ECF6\",\"polar\":{\"angularaxis\":{\"gridcolor\":\"white\",\"linecolor\":\"white\",\"ticks\":\"\"},\"bgcolor\":\"#E5ECF6\",\"radialaxis\":{\"gridcolor\":\"white\",\"linecolor\":\"white\",\"ticks\":\"\"}},\"scene\":{\"xaxis\":{\"backgroundcolor\":\"#E5ECF6\",\"gridcolor\":\"white\",\"gridwidth\":2,\"linecolor\":\"white\",\"showbackground\":true,\"ticks\":\"\",\"zerolinecolor\":\"white\"},\"yaxis\":{\"backgroundcolor\":\"#E5ECF6\",\"gridcolor\":\"white\",\"gridwidth\":2,\"linecolor\":\"white\",\"showbackground\":true,\"ticks\":\"\",\"zerolinecolor\":\"white\"},\"zaxis\":{\"backgroundcolor\":\"#E5ECF6\",\"gridcolor\":\"white\",\"gridwidth\":2,\"linecolor\":\"white\",\"showbackground\":true,\"ticks\":\"\",\"zerolinecolor\":\"white\"}},\"shapedefaults\":{\"line\":{\"color\":\"#2a3f5f\"}},\"ternary\":{\"aaxis\":{\"gridcolor\":\"white\",\"linecolor\":\"white\",\"ticks\":\"\"},\"baxis\":{\"gridcolor\":\"white\",\"linecolor\":\"white\",\"ticks\":\"\"},\"bgcolor\":\"#E5ECF6\",\"caxis\":{\"gridcolor\":\"white\",\"linecolor\":\"white\",\"ticks\":\"\"}},\"title\":{\"x\":0.05},\"xaxis\":{\"automargin\":true,\"gridcolor\":\"white\",\"linecolor\":\"white\",\"ticks\":\"\",\"title\":{\"standoff\":15},\"zerolinecolor\":\"white\",\"zerolinewidth\":2},\"yaxis\":{\"automargin\":true,\"gridcolor\":\"white\",\"linecolor\":\"white\",\"ticks\":\"\",\"title\":{\"standoff\":15},\"zerolinecolor\":\"white\",\"zerolinewidth\":2}}},\"width\":500},                        {\"responsive\": true}                    ).then(function(){\n",
       "                            \n",
       "var gd = document.getElementById('4ef034c5-9d2b-46a9-b275-75ede0c6dac6');\n",
       "var x = new MutationObserver(function (mutations, observer) {{\n",
       "        var display = window.getComputedStyle(gd).display;\n",
       "        if (!display || display === 'none') {{\n",
       "            console.log([gd, 'removed!']);\n",
       "            Plotly.purge(gd);\n",
       "            observer.disconnect();\n",
       "        }}\n",
       "}});\n",
       "\n",
       "// Listen for the removal of the full notebook cells\n",
       "var notebookContainer = gd.closest('#notebook-container');\n",
       "if (notebookContainer) {{\n",
       "    x.observe(notebookContainer, {childList: true});\n",
       "}}\n",
       "\n",
       "// Listen for the clearing of the current output cell\n",
       "var outputEl = gd.closest('.output');\n",
       "if (outputEl) {{\n",
       "    x.observe(outputEl, {childList: true});\n",
       "}}\n",
       "\n",
       "                        })                };                });            </script>        </div>"
      ]
     },
     "metadata": {},
     "output_type": "display_data"
    }
   ],
   "source": [
    "import plotly.express as px\n",
    "\n",
    "px.line_polar\n",
    "\n",
    "clusters=pd.DataFrame(scaled_data,columns=['Gender', 'Marital_Status', 'Age', 'Education', 'Income', 'Occupation',\n",
    "       'Settlement_Size'])\n",
    "clusters['Clusters']=model_full.labels_\n",
    "polar=clusters.groupby(\"Clusters\").mean().reset_index()# this is used to make Cluster columns as index\n",
    "polar=pd.melt(polar,id_vars=[\"Clusters\"])#this is used to categorised dataframe into the features with there mean value for each cluster\n",
    "fig = px.line_polar(polar, r=\"value\", theta=\"variable\", color=\"Clusters\", line_close=True,height=500,width=500)\n",
    "fig.show()"
   ]
  }
 ],
 "metadata": {
  "kernelspec": {
   "display_name": "Python 3",
   "language": "python",
   "name": "python3"
  },
  "language_info": {
   "codemirror_mode": {
    "name": "ipython",
    "version": 3
   },
   "file_extension": ".py",
   "mimetype": "text/x-python",
   "name": "python",
   "nbconvert_exporter": "python",
   "pygments_lexer": "ipython3",
   "version": "3.7.10"
  },
  "papermill": {
   "default_parameters": {},
   "duration": 33.842962,
   "end_time": "2021-09-28T14:52:36.594933",
   "environment_variables": {},
   "exception": null,
   "input_path": "__notebook__.ipynb",
   "output_path": "__notebook__.ipynb",
   "parameters": {},
   "start_time": "2021-09-28T14:52:02.751971",
   "version": "2.3.3"
  }
 },
 "nbformat": 4,
 "nbformat_minor": 5
}
